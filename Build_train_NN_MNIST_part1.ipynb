{
 "cells": [
  {
   "cell_type": "code",
   "execution_count": null,
   "metadata": {},
   "outputs": [],
   "source": [
    "# We will start by having only the input layer and a last classification layer."
   ]
  },
  {
   "cell_type": "code",
   "execution_count": 1,
   "metadata": {},
   "outputs": [],
   "source": [
    "# Step 1. Import Tensorflow and other helper libraries\n",
    "\n",
    "# make sure tensorflow is installed; uncomment the line before if you need to\n",
    "# pip install tensorflow\n",
    "\n",
    "# TensorFlow and tf.keras\n",
    "import tensorflow as tf\n",
    "\n",
    "# Helper libraries\n",
    "import numpy as np\n",
    "import matplotlib.pyplot as plt"
   ]
  },
  {
   "cell_type": "markdown",
   "metadata": {},
   "source": [
    "The MNIST database (Modified National Institute of Standards and Technology database) \n",
    "is a large database of handwritten digits that is commonly used for training various \n",
    "image processing systems."
   ]
  },
  {
   "cell_type": "code",
   "execution_count": 2,
   "metadata": {},
   "outputs": [
    {
     "name": "stdout",
     "output_type": "stream",
     "text": [
      "Downloading data from https://storage.googleapis.com/tensorflow/tf-keras-datasets/mnist.npz\n",
      "11493376/11490434 [==============================] - 0s 0us/step\n",
      "(60000, 28, 28)\n",
      "(10000, 28, 28)\n"
     ]
    }
   ],
   "source": [
    "# Step 2: load the MNIST data and convert pixel intensities to doubles\n",
    "# Explore the shape of the data\n",
    "mnist = tf.keras.datasets.mnist\n",
    "\n",
    "(x_train, y_train), (x_test, y_test) = mnist.load_data()\n",
    "x_train, x_test = x_train / 255.0, x_test / 255.0\n",
    "print(x_train.shape)\n",
    "print(x_test.shape)"
   ]
  },
  {
   "cell_type": "code",
   "execution_count": null,
   "metadata": {},
   "outputs": [],
   "source": [
    "# A Sequential model is appropriate for a plain stack of \n",
    "# layers where each layer has exactly one input tensor and one output tensor.\n",
    "# A Sequential model is not appropriate when:\n",
    "#  - Your model has multiple inputs or multiple outputs\n",
    "#  - Any of your layers has multiple inputs or multiple outputs\n",
    "#  - You need to do layer sharing\n",
    "#  - You want non-linear topology (e.g. a residual connection, a multi-branch model)"
   ]
  },
  {
   "cell_type": "code",
   "execution_count": 5,
   "metadata": {},
   "outputs": [],
   "source": [
    "# Step 3: Build the tf.keras.Sequential model by stacking the following two layers:\n",
    "\n",
    "# A. The first layer in the neural network takes input signals(values) and passes \n",
    "# them on to the next layer. It doesn’t apply any operations on the input signals(values) \n",
    "# and has no weights and biases values associated. In our network the input signals \n",
    "# are of size 28 by 28\n",
    "# The first layer is of type \"Flatten\" and you can use an optional input shape \n",
    "# (the input images are 28 by 28)\n",
    "# Flattening is converting the data into a 1-dimensional array for input \n",
    "# into to the next layer.\n",
    "\n",
    "# B. The second layer is Dense (fully connected layer), the output shape is 1 x 10\n",
    "# The size of the output is 10 because we have 10 possible characters: 0,1,2,..,9\n",
    "\n",
    "# Insert your code below:\n",
    "model = tf.keras.models.Sequential([\n",
    "    \n",
    "    tf.keras.layers.Flatten(input_shape = (28,28)),\n",
    "    tf.keras.layers.Dense(10)\n",
    "])"
   ]
  },
  {
   "cell_type": "code",
   "execution_count": 6,
   "metadata": {},
   "outputs": [
    {
     "name": "stdout",
     "output_type": "stream",
     "text": [
      "Model: \"sequential\"\n",
      "_________________________________________________________________\n",
      "Layer (type)                 Output Shape              Param #   \n",
      "=================================================================\n",
      "flatten_1 (Flatten)          (None, 784)               0         \n",
      "_________________________________________________________________\n",
      "dense (Dense)                (None, 10)                7850      \n",
      "=================================================================\n",
      "Total params: 7,850\n",
      "Trainable params: 7,850\n",
      "Non-trainable params: 0\n",
      "_________________________________________________________________\n"
     ]
    }
   ],
   "source": [
    "# Once a model is \"built\", you can call its summary() method to display its contents:\n",
    "\n",
    "model.summary()"
   ]
  },
  {
   "cell_type": "code",
   "execution_count": 7,
   "metadata": {},
   "outputs": [
    {
     "name": "stdout",
     "output_type": "stream",
     "text": [
      "WARNING:tensorflow:Layer flatten_1 is casting an input tensor from dtype float64 to the layer's dtype of float32, which is new behavior in TensorFlow 2.  The layer has dtype float32 because it's dtype defaults to floatx.\n",
      "\n",
      "If you intended to run this layer in float32, you can safely ignore this warning. If in doubt, this warning is likely only an issue if you are porting a TensorFlow 1.X model to TensorFlow 2.\n",
      "\n",
      "To change all layers to have dtype float64 by default, call `tf.keras.backend.set_floatx('float64')`. To change just this layer, pass dtype='float64' to the layer constructor. If you are the author of this layer, you can disable autocasting by passing autocast=False to the base Layer constructor.\n",
      "\n"
     ]
    },
    {
     "data": {
      "text/plain": [
       "array([[-0.09698418, -0.13701536,  0.14536294,  0.2694804 , -0.37894866,\n",
       "         0.5819749 ,  0.5072993 , -0.6776061 , -0.5488502 ,  0.08438926]],\n",
       "      dtype=float32)"
      ]
     },
     "execution_count": 7,
     "metadata": {},
     "output_type": "execute_result"
    }
   ],
   "source": [
    "# For each example the model returns a vector of \"logits\" or \"log-odds\" scores, one for each class.\n",
    "# pass 1 training data image to the model and convert the predictions into a numpy array\n",
    "predictions = model(x_train[:1]).numpy()\n",
    "predictions"
   ]
  },
  {
   "cell_type": "code",
   "execution_count": 8,
   "metadata": {},
   "outputs": [
    {
     "data": {
      "text/plain": [
       "array([[0.08599532, 0.08262082, 0.10957837, 0.12405902, 0.06486631,\n",
       "        0.16956766, 0.15736634, 0.0481187 , 0.05473082, 0.1030966 ]],\n",
       "      dtype=float32)"
      ]
     },
     "execution_count": 8,
     "metadata": {},
     "output_type": "execute_result"
    }
   ],
   "source": [
    "# Use the tf.nn.softmax function to convert these logits into \"probabilities\" for each class:\n",
    "tf.nn.softmax(predictions).numpy()\n"
   ]
  },
  {
   "cell_type": "code",
   "execution_count": 9,
   "metadata": {},
   "outputs": [
    {
     "data": {
      "text/plain": [
       "1.7745032"
      ]
     },
     "execution_count": 9,
     "metadata": {},
     "output_type": "execute_result"
    }
   ],
   "source": [
    "# Choose an optimizer and loss function for training\n",
    "\n",
    "# Deep learning neural networks are trained using the stochastic gradient descent optimization \n",
    "# algorithm. As part of the optimization algorithm, the error for the current state of the \n",
    "# model must be estimated repeatedly. This requires the choice of an error function, \n",
    "# conventionally called a loss function, that can be used to estimate the loss of the model so \n",
    "# that the weights can be updated to reduce the loss on the next evaluation.\n",
    "\n",
    "# The losses.SparseCategoricalCrossentropy loss takes a vector of logits and a True index and \n",
    "# returns a scalar loss for each example.\n",
    "\n",
    "loss_fn = tf.keras.losses.SparseCategoricalCrossentropy(from_logits=True)\n",
    "\n",
    "# This loss is equal to the negative log probability of the true class: It is zero if the model \n",
    "# is sure of the correct class. This untrained model gives probabilities close to random\n",
    "# (1/10 for each class), so the initial loss should be close to -tf.math.log(1/10) ~= 2.3.\n",
    "\n",
    "loss_fn(y_train[:1], predictions).numpy()"
   ]
  },
  {
   "cell_type": "code",
   "execution_count": 10,
   "metadata": {},
   "outputs": [
    {
     "name": "stdout",
     "output_type": "stream",
     "text": [
      "Train on 60000 samples\n",
      "Epoch 1/10\n",
      "60000/60000 [==============================] - 13s 215us/sample - loss: 0.4704 - accuracy: 0.8761\n",
      "Epoch 2/10\n",
      "60000/60000 [==============================] - 12s 206us/sample - loss: 0.3041 - accuracy: 0.9155- los - ETA:  - ETA: 0s - loss: 0.3037 - \n",
      "Epoch 3/10\n",
      "60000/60000 [==============================] - 12s 204us/sample - loss: 0.2834 - accuracy: 0.9204\n",
      "Epoch 4/10\n",
      "60000/60000 [==============================] - 12s 205us/sample - loss: 0.2733 - accuracy: 0.9238\n",
      "Epoch 5/10\n",
      "60000/60000 [==============================] - 12s 202us/sample - loss: 0.2668 - accuracy: 0.9258- loss: 0.2658 - ac\n",
      "Epoch 6/10\n",
      "60000/60000 [==============================] - 12s 202us/sample - loss: 0.2618 - accuracy: 0.9276- l - ETA: 1s - l\n",
      "Epoch 7/10\n",
      "60000/60000 [==============================] - 12s 202us/sample - loss: 0.2583 - accuracy: 0.9284- loss: 0.2586 - accuracy: 0.\n",
      "Epoch 8/10\n",
      "60000/60000 [==============================] - 12s 200us/sample - loss: 0.2554 - accuracy: 0.9294\n",
      "Epoch 9/10\n",
      "60000/60000 [==============================] - 11s 181us/sample - loss: 0.2532 - accuracy: 0.9298\n",
      "Epoch 10/10\n",
      "60000/60000 [==============================] - 11s 183us/sample - loss: 0.2513 - accuracy: 0.9305\n"
     ]
    },
    {
     "data": {
      "text/plain": [
       "<tensorflow.python.keras.callbacks.History at 0x7efc6d993e10>"
      ]
     },
     "execution_count": 10,
     "metadata": {},
     "output_type": "execute_result"
    }
   ],
   "source": [
    "# Step 4: Ready to compile. optimizer parameter = 'adam'. Other optimizer options here: \n",
    "# https://www.tensorflow.org/api_docs/python/tf/keras/optimizers\n",
    "# loss = the name of the loss function\n",
    "# Typically you will use metrics=['accuracy']\n",
    "model.compile(optimizer='adam',\n",
    "              loss=loss_fn,\n",
    "              metrics=['accuracy'])\n",
    "# The Model.fit method adjusts the model parameters to minimize the loss\n",
    "\n",
    "# Task: Call the model.fit method to train the model for 10 iterations\n",
    "\n",
    "# Insert your code below:\n",
    "model.fit(x_train, y_train, epochs = 10)\n",
    "\n",
    "\n",
    "\n",
    "\n",
    "\n",
    "\n",
    "\n",
    "\n"
   ]
  },
  {
   "cell_type": "code",
   "execution_count": 12,
   "metadata": {},
   "outputs": [
    {
     "name": "stdout",
     "output_type": "stream",
     "text": [
      "10000/10000 - 1s - loss: 0.2661 - accuracy: 0.9261\n",
      "\n",
      "Test Accracy: 0.9261\n"
     ]
    }
   ],
   "source": [
    "# Step 5: Evaluate the model: compare how the model performs on the test dataset\n",
    "\n",
    "# Task: Use the Model.evaluate method to check the model's performanceon the test \n",
    "# set (x_test, y_test). It would be useful to print the model's testing accuracy as well.\n",
    "\n",
    "# Insert your code below:\n",
    "\n",
    "\n",
    "test_loss, test_acc = model.evaluate(x_test, y_test, verbose = 2)\n",
    "print('\\nTest Accracy:', test_acc)\n",
    "\n",
    "\n",
    "\n",
    "\n",
    "\n",
    "\n",
    "\n",
    "\n"
   ]
  }
 ],
 "metadata": {
  "kernelspec": {
   "display_name": "Python 3",
   "language": "python",
   "name": "python3"
  },
  "language_info": {
   "codemirror_mode": {
    "name": "ipython",
    "version": 3
   },
   "file_extension": ".py",
   "mimetype": "text/x-python",
   "name": "python",
   "nbconvert_exporter": "python",
   "pygments_lexer": "ipython3",
   "version": "3.7.6"
  }
 },
 "nbformat": 4,
 "nbformat_minor": 2
}
